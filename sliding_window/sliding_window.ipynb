{
 "cells": [
  {
   "cell_type": "markdown",
   "metadata": {},
   "source": [
    "# Minimum size subarray\n",
    "\n",
    "Given an array of positive integers nums and a positive integer target, return the minimal length of a\n",
    "subarray whose sum is greater than or equal to target. If there is no such subarray, return 0 instead.\n",
    "\n",
    "Example 1:\n",
    "\n",
    "Input: target = 7, nums = [2,3,1,2,4,3]\n",
    "Output: 2\n",
    "Explanation: The subarray [4,3] has the minimal length under the problem constraint.\n",
    "\n"
   ]
  },
  {
   "cell_type": "code",
   "execution_count": 16,
   "metadata": {},
   "outputs": [
    {
     "data": {
      "text/plain": [
       "2"
      ]
     },
     "execution_count": 16,
     "metadata": {},
     "output_type": "execute_result"
    }
   ],
   "source": [
    "from typing import List\n",
    "def minimumSizeSubArray(s: int, nums: List[int]) -> int:\n",
    "    n = len(nums)\n",
    "    ans = float('inf')  # Use infinity as the initial value for comparison\n",
    "    start = 0\n",
    "    end = 0\n",
    "    sum = 0  # Current sum of the window\n",
    "    \n",
    "    while end < n:\n",
    "        # Expand the window\n",
    "        sum += nums[end]\n",
    "        end += 1\n",
    "        \n",
    "        # Shrink the window\n",
    "        while sum >= s:\n",
    "            ans = min(ans, end - start)\n",
    "            sum -= nums[start]\n",
    "            start += 1\n",
    "            \n",
    "    return ans if ans != float('inf') else 0\n",
    "\n",
    "nums = minimumSizeSubArray(7, [2, 3, 1, 2, 4, 3])\n",
    "nums\n",
    "    "
   ]
  },
  {
   "cell_type": "code",
   "execution_count": null,
   "metadata": {},
   "outputs": [],
   "source": []
  }
 ],
 "metadata": {
  "kernelspec": {
   "display_name": "Python 3",
   "language": "python",
   "name": "python3"
  },
  "language_info": {
   "codemirror_mode": {
    "name": "ipython",
    "version": 3
   },
   "file_extension": ".py",
   "mimetype": "text/x-python",
   "name": "python",
   "nbconvert_exporter": "python",
   "pygments_lexer": "ipython3",
   "version": "3.11.4"
  }
 },
 "nbformat": 4,
 "nbformat_minor": 2
}
